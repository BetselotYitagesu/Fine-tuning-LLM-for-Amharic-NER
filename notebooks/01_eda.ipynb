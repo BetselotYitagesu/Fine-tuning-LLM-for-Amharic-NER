{
 "cells": [
  {
   "cell_type": "code",
   "execution_count": 11,
   "id": "83b64e4f",
   "metadata": {},
   "outputs": [],
   "source": [
    "import sys\n",
    "import os\n",
    "\n",
    "# Add the root directory of your project to Python path\n",
    "project_root = os.path.abspath(os.path.join(os.getcwd(), '..'))\n",
    "if project_root not in sys.path:\n",
    "    sys.path.append(project_root)\n"
   ]
  },
  {
   "cell_type": "code",
   "execution_count": 13,
   "id": "9f29d1a8",
   "metadata": {},
   "outputs": [
    {
     "data": {
      "text/html": [
       "<div>\n",
       "<style scoped>\n",
       "    .dataframe tbody tr th:only-of-type {\n",
       "        vertical-align: middle;\n",
       "    }\n",
       "\n",
       "    .dataframe tbody tr th {\n",
       "        vertical-align: top;\n",
       "    }\n",
       "\n",
       "    .dataframe thead th {\n",
       "        text-align: right;\n",
       "    }\n",
       "</style>\n",
       "<table border=\"1\" class=\"dataframe\">\n",
       "  <thead>\n",
       "    <tr style=\"text-align: right;\">\n",
       "      <th></th>\n",
       "      <th>channel</th>\n",
       "      <th>date</th>\n",
       "      <th>cleaned_message</th>\n",
       "      <th>views</th>\n",
       "      <th>id</th>\n",
       "    </tr>\n",
       "  </thead>\n",
       "  <tbody>\n",
       "    <tr>\n",
       "      <th>0</th>\n",
       "      <td>ShagerOnlineStore</td>\n",
       "      <td>2025-06-21 14:15:20+00:00</td>\n",
       "      <td>ኳሊቲ የሆነ የጁስ መፍጫ የጀርመን ቴክኖሎጂ የሆነ ሌትር ጁስ የሚፈጭ ጆግ...</td>\n",
       "      <td>1462</td>\n",
       "      <td>7403</td>\n",
       "    </tr>\n",
       "    <tr>\n",
       "      <th>1</th>\n",
       "      <td>ShagerOnlineStore</td>\n",
       "      <td>2025-06-21 14:12:57+00:00</td>\n",
       "      <td>ኳሊቲ የሆነ የጁስ መፍጫ የጀርመን ቴክኖሎጂ የሆነ ሌትር ጁስ የሚፈጭ ጆግ...</td>\n",
       "      <td>1427</td>\n",
       "      <td>7402</td>\n",
       "    </tr>\n",
       "    <tr>\n",
       "      <th>2</th>\n",
       "      <td>ShagerOnlineStore</td>\n",
       "      <td>2025-06-21 07:02:35+00:00</td>\n",
       "      <td>ባለ ለማንኛውም ዓይነት የውሃ ጀሪካን የሚሆን ቱቦው የሚረዝም ቻርጅ የመያ...</td>\n",
       "      <td>2234</td>\n",
       "      <td>7401</td>\n",
       "    </tr>\n",
       "    <tr>\n",
       "      <th>3</th>\n",
       "      <td>ShagerOnlineStore</td>\n",
       "      <td>2025-06-21 07:01:25+00:00</td>\n",
       "      <td>ባለ ለማንኛውም ዓይነት የውሃ ጀሪካን የሚሆን ቱቦው የሚረዝም ቻርጅ የመያ...</td>\n",
       "      <td>2032</td>\n",
       "      <td>7400</td>\n",
       "    </tr>\n",
       "    <tr>\n",
       "      <th>4</th>\n",
       "      <td>ShagerOnlineStore</td>\n",
       "      <td>2025-06-20 15:25:41+00:00</td>\n",
       "      <td>ሶስት በአንድ የያዘ የፀጉር ማሽን እና ሼቨር የሚሰራ ጥራት ባለው ግብአት...</td>\n",
       "      <td>2837</td>\n",
       "      <td>7399</td>\n",
       "    </tr>\n",
       "  </tbody>\n",
       "</table>\n",
       "</div>"
      ],
      "text/plain": [
       "             channel                       date  \\\n",
       "0  ShagerOnlineStore  2025-06-21 14:15:20+00:00   \n",
       "1  ShagerOnlineStore  2025-06-21 14:12:57+00:00   \n",
       "2  ShagerOnlineStore  2025-06-21 07:02:35+00:00   \n",
       "3  ShagerOnlineStore  2025-06-21 07:01:25+00:00   \n",
       "4  ShagerOnlineStore  2025-06-20 15:25:41+00:00   \n",
       "\n",
       "                                     cleaned_message  views    id  \n",
       "0  ኳሊቲ የሆነ የጁስ መፍጫ የጀርመን ቴክኖሎጂ የሆነ ሌትር ጁስ የሚፈጭ ጆግ...   1462  7403  \n",
       "1  ኳሊቲ የሆነ የጁስ መፍጫ የጀርመን ቴክኖሎጂ የሆነ ሌትር ጁስ የሚፈጭ ጆግ...   1427  7402  \n",
       "2  ባለ ለማንኛውም ዓይነት የውሃ ጀሪካን የሚሆን ቱቦው የሚረዝም ቻርጅ የመያ...   2234  7401  \n",
       "3  ባለ ለማንኛውም ዓይነት የውሃ ጀሪካን የሚሆን ቱቦው የሚረዝም ቻርጅ የመያ...   2032  7400  \n",
       "4  ሶስት በአንድ የያዘ የፀጉር ማሽን እና ሼቨር የሚሰራ ጥራት ባለው ግብአት...   2837  7399  "
      ]
     },
     "execution_count": 13,
     "metadata": {},
     "output_type": "execute_result"
    }
   ],
   "source": [
    "import pandas as pd\n",
    "from scr.preprocessing.preprocess_text import preprocess_dataframe\n",
    "\n",
    "df = preprocess_dataframe(\"../data/raw/ShagerOnlineStore.csv\")\n",
    "df.head()"
   ]
  },
  {
   "cell_type": "code",
   "execution_count": 17,
   "id": "be099484",
   "metadata": {},
   "outputs": [],
   "source": [
    "# from scr.preprocessing.preprocess_text import preprocess_dataframe\n",
    "\n",
    "# df_clean = preprocess_dataframe('../data/raw/ShagerOnlineStore.csv')\n",
    "# df_clean.to_csv('../data/processed/Shager_clean.csv', index=False)\n",
    "# df_clean.head()\n"
   ]
  },
  {
   "cell_type": "code",
   "execution_count": 16,
   "id": "6c3d95a3",
   "metadata": {},
   "outputs": [
    {
     "name": "stdout",
     "output_type": "stream",
     "text": [
      "✅ Saved: ../data/processed\\Leyueqa_clean.csv\n",
      "✅ Saved: ../data/processed\\marakibrand_clean.csv\n",
      "✅ Saved: ../data/processed\\MerttEka_clean.csv\n",
      "✅ Saved: ../data/processed\\qnashcom_clean.csv\n",
      "✅ Saved: ../data/processed\\ShagerOnlineStore_clean.csv\n"
     ]
    }
   ],
   "source": [
    "# clean all  channels \n",
    "\n",
    "import os\n",
    "from scr.preprocessing.preprocess_text import preprocess_dataframe\n",
    "\n",
    "raw_dir = '../data/raw'\n",
    "processed_dir = '../data/processed'\n",
    "\n",
    "os.makedirs(processed_dir, exist_ok=True)\n",
    "\n",
    "for file in os.listdir(raw_dir):\n",
    "    if file.endswith('.csv'):\n",
    "        raw_path = os.path.join(raw_dir, file)\n",
    "        processed_path = os.path.join(processed_dir, file.replace('.csv', '_clean.csv'))\n",
    "        \n",
    "        df_clean = preprocess_dataframe(raw_path)\n",
    "        df_clean.to_csv(processed_path, index=False)\n",
    "        print(f\"✅ Saved: {processed_path}\")\n"
   ]
  }
 ],
 "metadata": {
  "kernelspec": {
   "display_name": "venv",
   "language": "python",
   "name": "python3"
  },
  "language_info": {
   "codemirror_mode": {
    "name": "ipython",
    "version": 3
   },
   "file_extension": ".py",
   "mimetype": "text/x-python",
   "name": "python",
   "nbconvert_exporter": "python",
   "pygments_lexer": "ipython3",
   "version": "3.13.3"
  }
 },
 "nbformat": 4,
 "nbformat_minor": 5
}
