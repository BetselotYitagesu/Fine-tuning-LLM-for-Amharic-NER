{
 "cells": [
  {
   "cell_type": "code",
   "execution_count": 18,
   "id": "83b64e4f",
   "metadata": {},
   "outputs": [],
   "source": [
    "import sys\n",
    "import os\n",
    "\n",
    "# Add the root directory of your project to Python path\n",
    "project_root = os.path.abspath(os.path.join(os.getcwd(), '..'))\n",
    "if project_root not in sys.path:\n",
    "    sys.path.append(project_root)\n"
   ]
  },
  {
   "cell_type": "code",
   "execution_count": 22,
   "id": "9f29d1a8",
   "metadata": {},
   "outputs": [
    {
     "data": {
      "text/html": [
       "<div>\n",
       "<style scoped>\n",
       "    .dataframe tbody tr th:only-of-type {\n",
       "        vertical-align: middle;\n",
       "    }\n",
       "\n",
       "    .dataframe tbody tr th {\n",
       "        vertical-align: top;\n",
       "    }\n",
       "\n",
       "    .dataframe thead th {\n",
       "        text-align: right;\n",
       "    }\n",
       "</style>\n",
       "<table border=\"1\" class=\"dataframe\">\n",
       "  <thead>\n",
       "    <tr style=\"text-align: right;\">\n",
       "      <th></th>\n",
       "      <th>channel</th>\n",
       "      <th>date</th>\n",
       "      <th>cleaned_message</th>\n",
       "      <th>views</th>\n",
       "      <th>id</th>\n",
       "    </tr>\n",
       "  </thead>\n",
       "  <tbody>\n",
       "    <tr>\n",
       "      <th>0</th>\n",
       "      <td>@ethio_brand_collection</td>\n",
       "      <td>2025-06-16 09:01:34+00:00</td>\n",
       "      <td>አድራሻሜክሲኮ ኮሜርስ ጀርባ መዚድ ፕላዛ የመጀመሪያ ደረጃ እንደወጡ የቢሮ...</td>\n",
       "      <td>9414</td>\n",
       "      <td>6116</td>\n",
       "    </tr>\n",
       "    <tr>\n",
       "      <th>1</th>\n",
       "      <td>@ethio_brand_collection</td>\n",
       "      <td>2025-06-15 09:20:06+00:00</td>\n",
       "      <td>እሁድ ሁሌም ክፍት ነን አድራሻሜክሲኮ ኮሜርስ ጀርባ መዚድ ፕላዛ የመጀመሪ...</td>\n",
       "      <td>11312</td>\n",
       "      <td>6115</td>\n",
       "    </tr>\n",
       "    <tr>\n",
       "      <th>2</th>\n",
       "      <td>@ethio_brand_collection</td>\n",
       "      <td>2025-06-14 09:04:17+00:00</td>\n",
       "      <td>አድራሻሜክሲኮ ኮሜርስ ጀርባ መዚድ ፕላዛ የመጀመሪያ ደረጃ እንደወጡ የቢሮ...</td>\n",
       "      <td>12305</td>\n",
       "      <td>6113</td>\n",
       "    </tr>\n",
       "    <tr>\n",
       "      <th>3</th>\n",
       "      <td>@ethio_brand_collection</td>\n",
       "      <td>2025-06-14 06:40:06+00:00</td>\n",
       "      <td>አድራሻሜክሲኮ ኮሜርስ ጀርባ መዚድ ፕላዛ የመጀመሪያ ደረጃ እንደወጡ የቢሮ...</td>\n",
       "      <td>11831</td>\n",
       "      <td>6112</td>\n",
       "    </tr>\n",
       "    <tr>\n",
       "      <th>4</th>\n",
       "      <td>@ethio_brand_collection</td>\n",
       "      <td>2025-06-13 09:02:24+00:00</td>\n",
       "      <td>አድራሻሜክሲኮ ኮሜርስ ጀርባ መዚድ ፕላዛ የመጀመሪያ ደረጃ እንደወጡ የቢሮ...</td>\n",
       "      <td>12482</td>\n",
       "      <td>6111</td>\n",
       "    </tr>\n",
       "  </tbody>\n",
       "</table>\n",
       "</div>"
      ],
      "text/plain": [
       "                   channel                       date  \\\n",
       "0  @ethio_brand_collection  2025-06-16 09:01:34+00:00   \n",
       "1  @ethio_brand_collection  2025-06-15 09:20:06+00:00   \n",
       "2  @ethio_brand_collection  2025-06-14 09:04:17+00:00   \n",
       "3  @ethio_brand_collection  2025-06-14 06:40:06+00:00   \n",
       "4  @ethio_brand_collection  2025-06-13 09:02:24+00:00   \n",
       "\n",
       "                                     cleaned_message  views    id  \n",
       "0  አድራሻሜክሲኮ ኮሜርስ ጀርባ መዚድ ፕላዛ የመጀመሪያ ደረጃ እንደወጡ የቢሮ...   9414  6116  \n",
       "1  እሁድ ሁሌም ክፍት ነን አድራሻሜክሲኮ ኮሜርስ ጀርባ መዚድ ፕላዛ የመጀመሪ...  11312  6115  \n",
       "2  አድራሻሜክሲኮ ኮሜርስ ጀርባ መዚድ ፕላዛ የመጀመሪያ ደረጃ እንደወጡ የቢሮ...  12305  6113  \n",
       "3  አድራሻሜክሲኮ ኮሜርስ ጀርባ መዚድ ፕላዛ የመጀመሪያ ደረጃ እንደወጡ የቢሮ...  11831  6112  \n",
       "4  አድራሻሜክሲኮ ኮሜርስ ጀርባ መዚድ ፕላዛ የመጀመሪያ ደረጃ እንደወጡ የቢሮ...  12482  6111  "
      ]
     },
     "execution_count": 22,
     "metadata": {},
     "output_type": "execute_result"
    }
   ],
   "source": [
    "import pandas as pd\n",
    "from scr.preprocessing.preprocess_text import preprocess_dataframe\n",
    "\n",
    "df = preprocess_dataframe(\"../data/raw/@ethio_brand_collection.csv\")\n",
    "df.head()"
   ]
  },
  {
   "cell_type": "code",
   "execution_count": 17,
   "id": "be099484",
   "metadata": {},
   "outputs": [],
   "source": [
    "# from scr.preprocessing.preprocess_text import preprocess_dataframe\n",
    "\n",
    "# df_clean = preprocess_dataframe('../data/raw/ShagerOnlineStore.csv')\n",
    "# df_clean.to_csv('../data/processed/Shager_clean.csv', index=False)\n",
    "# df_clean.head()\n"
   ]
  },
  {
   "cell_type": "code",
   "execution_count": 19,
   "id": "6c3d95a3",
   "metadata": {},
   "outputs": [
    {
     "name": "stdout",
     "output_type": "stream",
     "text": [
      "✅ Saved: ../data/processed\\@ethio_brand_collection_clean.csv\n",
      "✅ Saved: ../data/processed\\Leyueqa_clean.csv\n",
      "✅ Saved: ../data/processed\\marakibrand_clean.csv\n",
      "✅ Saved: ../data/processed\\MerttEka_clean.csv\n",
      "✅ Saved: ../data/processed\\qnashcom_clean.csv\n",
      "✅ Saved: ../data/processed\\ShagerOnlineStore_clean.csv\n"
     ]
    }
   ],
   "source": [
    "# clean all  channels \n",
    "\n",
    "import os\n",
    "from scr.preprocessing.preprocess_text import preprocess_dataframe\n",
    "\n",
    "raw_dir = '../data/raw'\n",
    "processed_dir = '../data/processed'\n",
    "\n",
    "os.makedirs(processed_dir, exist_ok=True)\n",
    "\n",
    "for file in os.listdir(raw_dir):\n",
    "    if file.endswith('.csv'):\n",
    "        raw_path = os.path.join(raw_dir, file)\n",
    "        processed_path = os.path.join(processed_dir, file.replace('.csv', '_clean.csv'))\n",
    "        \n",
    "        df_clean = preprocess_dataframe(raw_path)\n",
    "        df_clean.to_csv(processed_path, index=False)\n",
    "        print(f\"✅ Saved: {processed_path}\")\n"
   ]
  }
 ],
 "metadata": {
  "kernelspec": {
   "display_name": "venv",
   "language": "python",
   "name": "python3"
  },
  "language_info": {
   "codemirror_mode": {
    "name": "ipython",
    "version": 3
   },
   "file_extension": ".py",
   "mimetype": "text/x-python",
   "name": "python",
   "nbconvert_exporter": "python",
   "pygments_lexer": "ipython3",
   "version": "3.13.3"
  }
 },
 "nbformat": 4,
 "nbformat_minor": 5
}
